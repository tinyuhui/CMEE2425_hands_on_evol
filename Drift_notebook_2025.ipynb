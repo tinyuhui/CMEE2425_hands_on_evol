{
 "cells": [
  {
   "cell_type": "markdown",
   "id": "0c59ab95-34d7-4d61-a3d1-db7b91332d29",
   "metadata": {},
   "source": [
    "Hands-on Evolutionary Modelling, MSc CMEE 2025\n",
    "21/01/2025 Tin-Yu Hui <tin-yu.hui11@imperial.ac.uk>\n",
    "\n",
    "#### 0. Introduction\n",
    "As someone who did not have a solid biology/ecology background, it is often a challenge for me to accept all the ideas I read from a genetics textbook, at least not straight away. This is not because the textbooks were poorly written (Hartl & Clark is an excellent read by the way), more likely it is due to my lack of imagination, or the educational background I'd been exposed to. \n",
    "\n",
    "Over the years, I have gradually developed the habit to check my understanding or to pick up knowledge from simulations. Surely I must possess a reasonably good deal of understanding towards a certain topic if I can replicate it on my screen, right? And from that I can run all sorts of quantitative analyses, complementary to the other tools like mathematical equations we learnt in this course. \n",
    "\n",
    "I hope by the end of these \"hands-on\" days you will appreciate the use of computer simulation as a learning medium, also the art of translating abstract theories and human languages into something that computers can understand. On the practical side of things, these models can help solve problems if they are in the right hands. \n",
    "\n",
    "#### 1. Wright-Fisher drift simulator\n",
    "##### 1.1 Version 1\n",
    "Assumptions: Drift is the only evolutionary force (no mutation/migration/selection). Random mating. Discrete generation. Constant population size. Diploid. One biallelic locus (\"0\" or \"1\" allele). \n",
    "\n",
    "Since the locus is genetically neutral, the relative frequency of \"0\" in the gamete pool (from which gametes are sampled to form offsprings in the next generation) equals the current frequency. \n",
    "\n",
    "Parameters: Population size $N$, initial allele frequency of the \"0\" allele $p_0$, number of generations we wish to simulate forward in time $t$. \n",
    "\n",
    "Output(s): Two items. 1) A vector of $(t+1)$ allele frequencies over time. 2) A list containing $(t+1)$ matrices to store all the genotypic configurations across all individuals and time. Each matrix has $N$ columns (individuals) and 2 rows (ploidy). "
   ]
  },
  {
   "cell_type": "code",
   "execution_count": 1,
   "id": "91d3fab1-9b96-4ae8-9431-d50e75923660",
   "metadata": {},
   "outputs": [],
   "source": [
    "sim_genetic_drift<-function(N=10, t=5, p0=0.5)\n",
    "{\n",
    "    # THE BIG LIST OF MATRICES (TO BE FILLED IN LATER)\n",
    "    population<-list()\n",
    "    length(population)<-t+1\n",
    "    # GIVE NAMES TO THE ELEMENTS (OPTIONAL)\n",
    "    for (i in 1:(t+1))\n",
    "    {\n",
    "        names(population)[i]<-paste(c('generation', i-1), collapse='')\n",
    "    }\n",
    "    # ALSO KEEP TRACK ON THE ALLELE FREQ OVER TIME, AS A VECTOR\n",
    "    allele.freq<-rep(NA, t+1)\n",
    "    # INITIALISE\n",
    "    # NUMBER OF \"0\" ALLELE AT THE START, GOVERNED BY p0\n",
    "    k<-round(2*N*p0)\n",
    "    population[[1]]<-matrix(sample(c(rep(0, k), rep(1, 2*N-k))), nr=2)\n",
    "    # THE INITIAL ALLELE FREQ\n",
    "    allele.freq[1]<-sum(population[[1]]==0)/(2*N)\n",
    "    # PROPAGATION\n",
    "    for (i in 1:t)\n",
    "    {\n",
    "        # THE GAMETIC FREQ IS JUST THE ALLELE FREQ FROM THE PARENTAL GEN\n",
    "        population[[i+1]]<-matrix(sample(0:1, size=2*N, prob=c(allele.freq[i], 1-allele.freq[i]), replace=T), nr=2)\n",
    "        # UPDATE NEW FREQ\n",
    "        allele.freq[i+1]<-sum(population[[i+1]]==0)/(2*N)\n",
    "    }\n",
    "    # RETURN A BIG LIST, EXIT\n",
    "    return(list(population=population, allele.freq=allele.freq))\n",
    "}"
   ]
  },
  {
   "cell_type": "code",
   "execution_count": 2,
   "id": "e4ec8b8f-ae23-4304-a805-7e1fa690990d",
   "metadata": {},
   "outputs": [
    {
     "data": {
      "text/html": [
       "<dl>\n",
       "\t<dt>$population</dt>\n",
       "\t\t<dd><dl>\n",
       "\t<dt>$generation0</dt>\n",
       "\t\t<dd><table class=\"dataframe\">\n",
       "<caption>A matrix: 2 × 10 of type dbl</caption>\n",
       "<tbody>\n",
       "\t<tr><td>0</td><td>0</td><td>0</td><td>0</td><td>0</td><td>1</td><td>1</td><td>0</td><td>1</td><td>1</td></tr>\n",
       "\t<tr><td>0</td><td>1</td><td>1</td><td>0</td><td>0</td><td>1</td><td>1</td><td>1</td><td>1</td><td>0</td></tr>\n",
       "</tbody>\n",
       "</table>\n",
       "</dd>\n",
       "\t<dt>$generation1</dt>\n",
       "\t\t<dd><table class=\"dataframe\">\n",
       "<caption>A matrix: 2 × 10 of type int</caption>\n",
       "<tbody>\n",
       "\t<tr><td>1</td><td>0</td><td>1</td><td>0</td><td>0</td><td>1</td><td>0</td><td>1</td><td>1</td><td>0</td></tr>\n",
       "\t<tr><td>0</td><td>1</td><td>1</td><td>0</td><td>1</td><td>0</td><td>0</td><td>1</td><td>1</td><td>0</td></tr>\n",
       "</tbody>\n",
       "</table>\n",
       "</dd>\n",
       "\t<dt>$generation2</dt>\n",
       "\t\t<dd><table class=\"dataframe\">\n",
       "<caption>A matrix: 2 × 10 of type int</caption>\n",
       "<tbody>\n",
       "\t<tr><td>0</td><td>0</td><td>0</td><td>1</td><td>1</td><td>1</td><td>1</td><td>1</td><td>1</td><td>0</td></tr>\n",
       "\t<tr><td>0</td><td>1</td><td>0</td><td>0</td><td>0</td><td>1</td><td>1</td><td>0</td><td>1</td><td>1</td></tr>\n",
       "</tbody>\n",
       "</table>\n",
       "</dd>\n",
       "\t<dt>$generation3</dt>\n",
       "\t\t<dd><table class=\"dataframe\">\n",
       "<caption>A matrix: 2 × 10 of type int</caption>\n",
       "<tbody>\n",
       "\t<tr><td>1</td><td>1</td><td>0</td><td>1</td><td>1</td><td>1</td><td>1</td><td>0</td><td>1</td><td>1</td></tr>\n",
       "\t<tr><td>0</td><td>0</td><td>1</td><td>0</td><td>0</td><td>1</td><td>0</td><td>1</td><td>0</td><td>0</td></tr>\n",
       "</tbody>\n",
       "</table>\n",
       "</dd>\n",
       "\t<dt>$generation4</dt>\n",
       "\t\t<dd><table class=\"dataframe\">\n",
       "<caption>A matrix: 2 × 10 of type int</caption>\n",
       "<tbody>\n",
       "\t<tr><td>0</td><td>0</td><td>1</td><td>1</td><td>1</td><td>0</td><td>1</td><td>1</td><td>1</td><td>1</td></tr>\n",
       "\t<tr><td>0</td><td>1</td><td>1</td><td>0</td><td>1</td><td>0</td><td>0</td><td>0</td><td>0</td><td>1</td></tr>\n",
       "</tbody>\n",
       "</table>\n",
       "</dd>\n",
       "\t<dt>$generation5</dt>\n",
       "\t\t<dd><table class=\"dataframe\">\n",
       "<caption>A matrix: 2 × 10 of type int</caption>\n",
       "<tbody>\n",
       "\t<tr><td>0</td><td>1</td><td>1</td><td>1</td><td>0</td><td>0</td><td>1</td><td>0</td><td>0</td><td>0</td></tr>\n",
       "\t<tr><td>1</td><td>1</td><td>1</td><td>1</td><td>0</td><td>0</td><td>0</td><td>1</td><td>0</td><td>1</td></tr>\n",
       "</tbody>\n",
       "</table>\n",
       "</dd>\n",
       "</dl>\n",
       "</dd>\n",
       "\t<dt>$allele.freq</dt>\n",
       "\t\t<dd><style>\n",
       ".list-inline {list-style: none; margin:0; padding: 0}\n",
       ".list-inline>li {display: inline-block}\n",
       ".list-inline>li:not(:last-child)::after {content: \"\\00b7\"; padding: 0 .5ex}\n",
       "</style>\n",
       "<ol class=list-inline><li>0.5</li><li>0.5</li><li>0.45</li><li>0.45</li><li>0.45</li><li>0.5</li></ol>\n",
       "</dd>\n",
       "</dl>\n"
      ],
      "text/latex": [
       "\\begin{description}\n",
       "\\item[\\$population] \\begin{description}\n",
       "\\item[\\$generation0] A matrix: 2 × 10 of type dbl\n",
       "\\begin{tabular}{llllllllll}\n",
       "\t 0 & 0 & 0 & 0 & 0 & 1 & 1 & 0 & 1 & 1\\\\\n",
       "\t 0 & 1 & 1 & 0 & 0 & 1 & 1 & 1 & 1 & 0\\\\\n",
       "\\end{tabular}\n",
       "\n",
       "\\item[\\$generation1] A matrix: 2 × 10 of type int\n",
       "\\begin{tabular}{llllllllll}\n",
       "\t 1 & 0 & 1 & 0 & 0 & 1 & 0 & 1 & 1 & 0\\\\\n",
       "\t 0 & 1 & 1 & 0 & 1 & 0 & 0 & 1 & 1 & 0\\\\\n",
       "\\end{tabular}\n",
       "\n",
       "\\item[\\$generation2] A matrix: 2 × 10 of type int\n",
       "\\begin{tabular}{llllllllll}\n",
       "\t 0 & 0 & 0 & 1 & 1 & 1 & 1 & 1 & 1 & 0\\\\\n",
       "\t 0 & 1 & 0 & 0 & 0 & 1 & 1 & 0 & 1 & 1\\\\\n",
       "\\end{tabular}\n",
       "\n",
       "\\item[\\$generation3] A matrix: 2 × 10 of type int\n",
       "\\begin{tabular}{llllllllll}\n",
       "\t 1 & 1 & 0 & 1 & 1 & 1 & 1 & 0 & 1 & 1\\\\\n",
       "\t 0 & 0 & 1 & 0 & 0 & 1 & 0 & 1 & 0 & 0\\\\\n",
       "\\end{tabular}\n",
       "\n",
       "\\item[\\$generation4] A matrix: 2 × 10 of type int\n",
       "\\begin{tabular}{llllllllll}\n",
       "\t 0 & 0 & 1 & 1 & 1 & 0 & 1 & 1 & 1 & 1\\\\\n",
       "\t 0 & 1 & 1 & 0 & 1 & 0 & 0 & 0 & 0 & 1\\\\\n",
       "\\end{tabular}\n",
       "\n",
       "\\item[\\$generation5] A matrix: 2 × 10 of type int\n",
       "\\begin{tabular}{llllllllll}\n",
       "\t 0 & 1 & 1 & 1 & 0 & 0 & 1 & 0 & 0 & 0\\\\\n",
       "\t 1 & 1 & 1 & 1 & 0 & 0 & 0 & 1 & 0 & 1\\\\\n",
       "\\end{tabular}\n",
       "\n",
       "\\end{description}\n",
       "\n",
       "\\item[\\$allele.freq] \\begin{enumerate*}\n",
       "\\item 0.5\n",
       "\\item 0.5\n",
       "\\item 0.45\n",
       "\\item 0.45\n",
       "\\item 0.45\n",
       "\\item 0.5\n",
       "\\end{enumerate*}\n",
       "\n",
       "\\end{description}\n"
      ],
      "text/markdown": [
       "$population\n",
       ":   $generation0\n",
       ":   \n",
       "A matrix: 2 × 10 of type dbl\n",
       "\n",
       "| 0 | 0 | 0 | 0 | 0 | 1 | 1 | 0 | 1 | 1 |\n",
       "| 0 | 1 | 1 | 0 | 0 | 1 | 1 | 1 | 1 | 0 |\n",
       "\n",
       "\n",
       "$generation1\n",
       ":   \n",
       "A matrix: 2 × 10 of type int\n",
       "\n",
       "| 1 | 0 | 1 | 0 | 0 | 1 | 0 | 1 | 1 | 0 |\n",
       "| 0 | 1 | 1 | 0 | 1 | 0 | 0 | 1 | 1 | 0 |\n",
       "\n",
       "\n",
       "$generation2\n",
       ":   \n",
       "A matrix: 2 × 10 of type int\n",
       "\n",
       "| 0 | 0 | 0 | 1 | 1 | 1 | 1 | 1 | 1 | 0 |\n",
       "| 0 | 1 | 0 | 0 | 0 | 1 | 1 | 0 | 1 | 1 |\n",
       "\n",
       "\n",
       "$generation3\n",
       ":   \n",
       "A matrix: 2 × 10 of type int\n",
       "\n",
       "| 1 | 1 | 0 | 1 | 1 | 1 | 1 | 0 | 1 | 1 |\n",
       "| 0 | 0 | 1 | 0 | 0 | 1 | 0 | 1 | 0 | 0 |\n",
       "\n",
       "\n",
       "$generation4\n",
       ":   \n",
       "A matrix: 2 × 10 of type int\n",
       "\n",
       "| 0 | 0 | 1 | 1 | 1 | 0 | 1 | 1 | 1 | 1 |\n",
       "| 0 | 1 | 1 | 0 | 1 | 0 | 0 | 0 | 0 | 1 |\n",
       "\n",
       "\n",
       "$generation5\n",
       ":   \n",
       "A matrix: 2 × 10 of type int\n",
       "\n",
       "| 0 | 1 | 1 | 1 | 0 | 0 | 1 | 0 | 0 | 0 |\n",
       "| 1 | 1 | 1 | 1 | 0 | 0 | 0 | 1 | 0 | 1 |\n",
       "\n",
       "\n",
       "\n",
       "\n",
       "\n",
       "$allele.freq\n",
       ":   1. 0.5\n",
       "2. 0.5\n",
       "3. 0.45\n",
       "4. 0.45\n",
       "5. 0.45\n",
       "6. 0.5\n",
       "\n",
       "\n",
       "\n",
       "\n",
       "\n"
      ],
      "text/plain": [
       "$population\n",
       "$population$generation0\n",
       "     [,1] [,2] [,3] [,4] [,5] [,6] [,7] [,8] [,9] [,10]\n",
       "[1,]    0    0    0    0    0    1    1    0    1     1\n",
       "[2,]    0    1    1    0    0    1    1    1    1     0\n",
       "\n",
       "$population$generation1\n",
       "     [,1] [,2] [,3] [,4] [,5] [,6] [,7] [,8] [,9] [,10]\n",
       "[1,]    1    0    1    0    0    1    0    1    1     0\n",
       "[2,]    0    1    1    0    1    0    0    1    1     0\n",
       "\n",
       "$population$generation2\n",
       "     [,1] [,2] [,3] [,4] [,5] [,6] [,7] [,8] [,9] [,10]\n",
       "[1,]    0    0    0    1    1    1    1    1    1     0\n",
       "[2,]    0    1    0    0    0    1    1    0    1     1\n",
       "\n",
       "$population$generation3\n",
       "     [,1] [,2] [,3] [,4] [,5] [,6] [,7] [,8] [,9] [,10]\n",
       "[1,]    1    1    0    1    1    1    1    0    1     1\n",
       "[2,]    0    0    1    0    0    1    0    1    0     0\n",
       "\n",
       "$population$generation4\n",
       "     [,1] [,2] [,3] [,4] [,5] [,6] [,7] [,8] [,9] [,10]\n",
       "[1,]    0    0    1    1    1    0    1    1    1     1\n",
       "[2,]    0    1    1    0    1    0    0    0    0     1\n",
       "\n",
       "$population$generation5\n",
       "     [,1] [,2] [,3] [,4] [,5] [,6] [,7] [,8] [,9] [,10]\n",
       "[1,]    0    1    1    1    0    0    1    0    0     0\n",
       "[2,]    1    1    1    1    0    0    0    1    0     1\n",
       "\n",
       "\n",
       "$allele.freq\n",
       "[1] 0.50 0.50 0.45 0.45 0.45 0.50\n"
      ]
     },
     "metadata": {},
     "output_type": "display_data"
    }
   ],
   "source": [
    "# TEST RUN\n",
    "sim_genetic_drift()"
   ]
  },
  {
   "cell_type": "markdown",
   "id": "532929a3-4d94-49e9-a1bc-8a1300ef067a",
   "metadata": {},
   "source": [
    "Note 1: <code>return()</code> should be the last line of a function. Subsequent commands will be ignored. \n",
    "\n",
    "Note 2: A function can only return one item (a number, a vector, a matrix, a list). If multiple items are needed put them into a list. You can put a list within another list. \n",
    "\n",
    "##### 1.2 Version 2 (frequency only)\n",
    "Version 1 is individual-based. Depending on the problems of interest population-based models can be developed to simplified the compuation. If only allele frequency is concerned then the allele *count* in the next generation follows a binomial distribution with size $2*N$ and probability $p$, where $p$ is the current allele freuqnecy (of the \"0\" allele, say). Under this assumption we can simplify our drift simulator. The various probability distributions will be discussed in the Statistics module. \n",
    "\n",
    "Assumptions: same\n",
    "\n",
    "Parameters: same\n",
    "\n",
    "Output(s): A vector of allele frequencies over time with $(t+1)$ elements. "
   ]
  },
  {
   "cell_type": "code",
   "execution_count": 3,
   "id": "6b5c1813-d9bd-4c6f-a137-5b92cedb8882",
   "metadata": {},
   "outputs": [],
   "source": [
    "sim_genetic_drift2<-function(N=10, t=5, p0=0.5)\n",
    "{\n",
    "    # A VECTOR FOR ALLELE FREQ\n",
    "    allele.freq<-rep(NA, t+1)\n",
    "    # INITIALISE\n",
    "    allele.freq[1]<-p0\n",
    "    # PROPAGATION\n",
    "    # DIVIDE COUNT BY 2*N TO GET FREQ\n",
    "    for (i in 1:t)\n",
    "    {\n",
    "        allele.freq[i+1]<-rbinom(1, size=2*N, prob=allele.freq[i])/(2*N)\n",
    "    }\n",
    "    # RETURN AND EXIT\n",
    "    return(allele.freq)\n",
    "}"
   ]
  },
  {
   "cell_type": "code",
   "execution_count": 4,
   "id": "ca833902-4645-457b-a54c-9704400f8615",
   "metadata": {},
   "outputs": [
    {
     "data": {
      "text/html": [
       "<style>\n",
       ".list-inline {list-style: none; margin:0; padding: 0}\n",
       ".list-inline>li {display: inline-block}\n",
       ".list-inline>li:not(:last-child)::after {content: \"\\00b7\"; padding: 0 .5ex}\n",
       "</style>\n",
       "<ol class=list-inline><li>0.5</li><li>0.5</li><li>0.55</li><li>0.8</li><li>0.85</li><li>0.75</li></ol>\n"
      ],
      "text/latex": [
       "\\begin{enumerate*}\n",
       "\\item 0.5\n",
       "\\item 0.5\n",
       "\\item 0.55\n",
       "\\item 0.8\n",
       "\\item 0.85\n",
       "\\item 0.75\n",
       "\\end{enumerate*}\n"
      ],
      "text/markdown": [
       "1. 0.5\n",
       "2. 0.5\n",
       "3. 0.55\n",
       "4. 0.8\n",
       "5. 0.85\n",
       "6. 0.75\n",
       "\n",
       "\n"
      ],
      "text/plain": [
       "[1] 0.50 0.50 0.55 0.80 0.85 0.75"
      ]
     },
     "metadata": {},
     "output_type": "display_data"
    }
   ],
   "source": [
    "# TEST RUN\n",
    "sim_genetic_drift2()"
   ]
  },
  {
   "cell_type": "markdown",
   "id": "8c1db686-0460-43cf-b99d-a6057b9b28c6",
   "metadata": {},
   "source": [
    "Note that the two WF drift simulators should give identical results on frequency-based inferences. But the latter lacks genotypic information which inhibits us from calculating summary statistics such as heterozygosity or Hardy-Weinberg Equilibrium. \n",
    "\n",
    "#### 2. Drift and population size\n",
    "The magnitude of drift is inversely proportional to $N$. People have been using drift signals to estimate effective population size, see Waples (1989), Hui, Brenas & Burt (2021). "
   ]
  },
  {
   "cell_type": "code",
   "execution_count": 5,
   "id": "f5d3bdd9-85bb-413d-a56a-a97cb94404b4",
   "metadata": {},
   "outputs": [
    {
     "data": {
      "image/png": "[encoded data removed]",
      "text/plain": [
       "Plot with title \"N=50\""
      ]
     },
     "metadata": {
      "image/png": {
       "height": 420,
       "width": 420
      }
     },
     "output_type": "display_data"
    },
    {
     "data": {
      "image/png": "[encoded data removed]",
      "text/plain": [
       "Plot with title \"N=500\""
      ]
     },
     "metadata": {
      "image/png": {
       "height": 420,
       "width": 420
      }
     },
     "output_type": "display_data"
    }
   ],
   "source": [
    "# SMALL N=50 SCENARIO, WITH 20 REPLICATEAS\n",
    "af_N50<-matrix(nr=20, nc=51)\n",
    "for (i in 1:nrow(af_N50))\n",
    "{\n",
    "    af_N50[i,]<-sim_genetic_drift2(N=50, t=50)\n",
    "}\n",
    "# LARGE N=500 SCENARIO, WITH 20 REPLICATES\n",
    "af_N500<-matrix(nr=20, nc=51)\n",
    "for (i in 1:nrow(af_N500))\n",
    "{\n",
    "    af_N500[i,]<-sim_genetic_drift2(N=500, t=50)\n",
    "}\n",
    "# PLOTS ALLELE FREQ TRAJECTORIES\n",
    "matplot(0:50, t(af_N50), type='l', ylim=c(0, 1), \n",
    "        xlab='generations', ylab='allele frequency', main='N=50', lwd=2)\n",
    "matplot(0:50, t(af_N500), type='l', ylim=c(0, 1), \n",
    "        xlab='generations', ylab='allele frequency', main='N=500', lwd=2)"
   ]
  },
  {
   "cell_type": "markdown",
   "id": "63d81ef3-be8e-423f-875e-ccc382da6489",
   "metadata": {},
   "source": [
    "#### 3. Monte-Carlo methods\n",
    "##### 3.1 Variance of allele frequency due to drift\n",
    "The classical theory states that drift will not change the mean allele frequency but will increase its uncertainly (variance) over time. As seen from the two plots above, the uncertainly increases with $t$, but is also inversely proportional to $N$ (Waples, 1989). \n",
    "\n",
    "There is no surprise that geneticists want to quantify such relationship. One may ask for the mean and variance of allele frequency, given $p_0=0.5$, $N=200$, in $t=10$ generations. We could find these quantities by working out the statistical distributions and moments of allele frequency, and by studying the conditional mean and variance of the associated random variables (Statistics module). Or you may have heard using a diffusion model to approximate the WF process. \n",
    "\n",
    "Here I propose using the WF simulator to approximate the answers. Suppose our quantities of interest are the mean and variance of allele frequency due to drift. We can run the WF simulator given the known parameters for many times (10,000, say), independently, to obtain 10,000 such final allele frequencies. Our empirical answers are the sample average and variance of these simulated final allele frequencies. "
   ]
  },
  {
   "cell_type": "code",
   "execution_count": 6,
   "id": "c2d8f085-2df0-4aa3-a121-4a22d06a563e",
   "metadata": {},
   "outputs": [
    {
     "data": {
      "text/html": [
       "0.50035825"
      ],
      "text/latex": [
       "0.50035825"
      ],
      "text/markdown": [
       "0.50035825"
      ],
      "text/plain": [
       "[1] 0.5003583"
      ]
     },
     "metadata": {},
     "output_type": "display_data"
    },
    {
     "data": {
      "text/html": [
       "0.00611383241517902"
      ],
      "text/latex": [
       "0.00611383241517902"
      ],
      "text/markdown": [
       "0.00611383241517902"
      ],
      "text/plain": [
       "[1] 0.006113832"
      ]
     },
     "metadata": {},
     "output_type": "display_data"
    },
    {
     "data": {
      "image/png": "[encoded data removed]",
      "text/plain": [
       "Plot with title \"Histogram of 10000 final allele freq, given the initial conditions. \""
      ]
     },
     "metadata": {
      "image/png": {
       "height": 420,
       "width": 420
      }
     },
     "output_type": "display_data"
    }
   ],
   "source": [
    "# MEAN, VARIANCE, AND DISTRIBUTION OF ALLELE FREQ DUE TO DRIFT\n",
    "# p0=0.5, N=200, t=10\n",
    "# 10000 INDEPENDENT SIMS (OR LOCI), NOTE THAT WE'RE ONLY INTERESTED IN THE FINAL ALLELE FREQ\n",
    "final_af<-rep(NA, 10000)\n",
    "for (i in 1:length(final_af))\n",
    "{\n",
    "    final_af[i]<-sim_genetic_drift2(N=200, p0=0.5, t=10)[11]\n",
    "}\n",
    "# OUR APPROXIMATIONS \n",
    "mean(final_af)\n",
    "var(final_af)\n",
    "hist(final_af, xlab='allele freq', main='Histogram of 10000 final allele freq, given the initial conditions. ')"
   ]
  },
  {
   "cell_type": "markdown",
   "id": "51a0f4c2-66f4-4c1c-9bb6-c29f27ab12d4",
   "metadata": {},
   "source": [
    "In fact, Waples (1989) worked out that $$Var[p_t]=p_{0}(1-p_{0})(1-(1-1/2N)^t)$$ which is about 0.0061 for our set of parameters. Our MC approximation is not too bad! \n",
    "\n",
    "The histrogram also confirms that $E[p_t]=p_0$ (i.e. genetically neutral), although by chance the allele freuqency can shoot up to 0.8 or down to 0.2. There will be more on expectations in the Statistics module. The spirit of using repeated simulations to find \"answers\" is generally branded as Monte-Carlo. \n",
    "\n",
    "##### 3.2 Variance of MC estimates\n",
    "Some \"large\" numbers of repeated simulations are required in MC methods. But the next question is \"how large is large?\". In fact, it is valid to use only 10 independent loci to approximate $Var[p_t]$, but we prefer having 10,000 repeats for the obvious reasons. \n",
    "\n",
    "The results from MC simulation will converge to the \"true answer\" when the number of independent simulations $\\rightarrow\\infty$. Due to the stochastic nature of simulations, the error variance from MC simulation $\\propto1/(\\#sims)$. \n",
    "\n",
    "The following example illustrates such convergence. Here I examine the uncertainly surrounding our $Var[p_t]$ estimates under different number of independent loci (or sims) $n$, $n=50, 100, 200, 500, 1000, 2000$. For each $n$, I obtain 1000 $Var[p_t]$ estimates to look at the uncertainly (variance) among them, and so on. Basically, it is like running a MC on top of another MC. \n",
    "\n",
    "I am using the <code>doParallel</code> package to spread this task across my 6 cpu threads. "
   ]
  },
  {
   "cell_type": "code",
   "execution_count": 7,
   "id": "1d53084a-f921-4b7c-bfa2-a3619706ad81",
   "metadata": {},
   "outputs": [
    {
     "name": "stderr",
     "output_type": "stream",
     "text": [
      "Loading required package: doParallel\n",
      "\n",
      "Loading required package: foreach\n",
      "\n",
      "Loading required package: iterators\n",
      "\n",
      "Loading required package: parallel\n",
      "\n"
     ]
    },
    {
     "data": {
      "text/html": [
       "<style>\n",
       ".list-inline {list-style: none; margin:0; padding: 0}\n",
       ".list-inline>li {display: inline-block}\n",
       ".list-inline>li:not(:last-child)::after {content: \"\\00b7\"; padding: 0 .5ex}\n",
       "</style>\n",
       "<ol class=list-inline><li>1000</li><li>6</li></ol>\n"
      ],
      "text/latex": [
       "\\begin{enumerate*}\n",
       "\\item 1000\n",
       "\\item 6\n",
       "\\end{enumerate*}\n"
      ],
      "text/markdown": [
       "1. 1000\n",
       "2. 6\n",
       "\n",
       "\n"
      ],
      "text/plain": [
       "[1] 1000    6"
      ]
     },
     "metadata": {},
     "output_type": "display_data"
    }
   ],
   "source": [
    "# THE doParallel PACKAGE\n",
    "require(doParallel)\n",
    "# NUMBERS OF INDEPENDENT RUNS (LOCI)\n",
    "num_indep_loci<-c(50, 100, 200, 500, 1000, 2000)\n",
    "# LOCAL MULTI-CORE CLUSTER SETUP\n",
    "cl<-makeCluster(44)\n",
    "registerDoParallel(cl)\n",
    "# FOR EACH VALUE OF INDEP LOCI\n",
    "result<-foreach(i=1:6, .combine=cbind) %dopar%\n",
    "{\n",
    "    # WE WANT TO GET 1000 Var(p_t) ESTIMATES VIA MC\n",
    "    temp_result<-rep(NA, 1000)\n",
    "    for (j in 1:length(temp_result))\n",
    "        {\n",
    "        temp<-rep(NA, num_indep_loci[i])\n",
    "        for (k in 1:num_indep_loci[i])\n",
    "            {\n",
    "                temp[k]<-sim_genetic_drift2(p0=0.5, N=200, t=10)[11]\n",
    "            }\n",
    "        temp_result[j]<-var(temp)\n",
    "    }\n",
    "    return(temp_result)\n",
    "}\n",
    "stopCluster(cl)\n",
    "dim(result)"
   ]
  },
  {
   "cell_type": "code",
   "execution_count": 8,
   "id": "b4f5017b-6ca9-46d2-a467-d561da52e2b8",
   "metadata": {},
   "outputs": [
    {
     "data": {
      "image/png": "[encoded data removed]",
      "text/plain": [
       "plot without title"
      ]
     },
     "metadata": {
      "image/png": {
       "height": 420,
       "width": 420
      }
     },
     "output_type": "display_data"
    },
    {
     "data": {
      "image/png": "[encoded data removed]",
      "text/plain": [
       "plot without title"
      ]
     },
     "metadata": {
      "image/png": {
       "height": 420,
       "width": 420
      }
     },
     "output_type": "display_data"
    }
   ],
   "source": [
    "# PLOT THE UNCERTAINTY AROUND THESE VARIANCE ESTIMATES (i.e. SAMPLE VARIANCE OF 1000 REPEATED VARIANCE ESTIMTAES)\n",
    "plot(num_indep_loci, apply(result, 2, var), \n",
    "    xlab='number of loci used to produce one variance estimate', \n",
    "    ylab='variance (or uncertainty) around the estimate')\n",
    "\n",
    "# OR PLOT THE RECIPROCAL OF THE UNCERTAINTY?\n",
    "plot(num_indep_loci, 1/apply(result, 2, var), \n",
    "    xlab='number of loci used to produce one variance estimate', \n",
    "    ylab='1/variance (or uncertainty) around the estimate')\n",
    "abline(lm(1/apply(result, 2, var)~num_indep_loci), lty=2)"
   ]
  },
  {
   "cell_type": "markdown",
   "id": "242b7fc6-1d3e-4443-9c8d-836d493ecf1e",
   "metadata": {},
   "source": [
    "The more repeats the more consistent among the answers. The last plot confirms the relationship that the MC variance $\\propto1/(\\#sims)$. \n",
    "\n",
    "##### 3.3 Persistence time of an allele\n",
    "We probably have learnt that drift will ultimately drive an allele to fixation/extinction. The time to fixation/extinction is a random variable, depending on $p_0$ and $N$. We can use MC to approximate the time to fixation/extinction, but it requires minor tweaks to our simulator: 1) ask it to run until an allele goes fixed/extinct (and that $t$ is no longer an input argument), and 2) to return the number of generations elapsed before fixation/extinction. A <code>while()</code> loop may help. Below is my version:"
   ]
  },
  {
   "cell_type": "code",
   "execution_count": 9,
   "id": "6dd65160-a58f-4256-8198-e8e0d923a5fb",
   "metadata": {},
   "outputs": [],
   "source": [
    "# MODIFY sim_genetic_drift2() TO RUN UNTIL THE LOCUS IS FIXED\n",
    "sim_genetic_drift3<-function(N=10, p0=0.5)\n",
    "{\n",
    "    # WE CAN USE UPDATE AND REUSE THE SAME VARIABLE p\n",
    "    p<-p0\n",
    "    # KEEP TRACK OF t\n",
    "    t<-0\n",
    "    # PROPAGATION. WHILE IT REMAINS POLYMORPHIC\n",
    "    while (p>0 & p<1)\n",
    "    {\n",
    "        p<-rbinom(1, size=2*N, prob=p)/(2*N)\n",
    "        t<-t+1\n",
    "    }\n",
    "    # RETURN t AND EXIT\n",
    "    return(t)\n",
    "}"
   ]
  },
  {
   "cell_type": "code",
   "execution_count": 10,
   "id": "03667320-d12e-42d6-a55e-9cbbfe85b08f",
   "metadata": {},
   "outputs": [
    {
     "data": {
      "text/html": [
       "80.0469"
      ],
      "text/latex": [
       "80.0469"
      ],
      "text/markdown": [
       "80.0469"
      ],
      "text/plain": [
       "[1] 80.0469"
      ]
     },
     "metadata": {},
     "output_type": "display_data"
    },
    {
     "data": {
      "text/html": [
       "37203.0818085709"
      ],
      "text/latex": [
       "37203.0818085709"
      ],
      "text/markdown": [
       "37203.0818085709"
      ],
      "text/plain": [
       "[1] 37203.08"
      ]
     },
     "metadata": {},
     "output_type": "display_data"
    },
    {
     "data": {
      "image/png": "[encoded data removed]",
      "text/plain": [
       "Plot with title \"Histogram of persistence_time\""
      ]
     },
     "metadata": {
      "image/png": {
       "height": 420,
       "width": 420
      }
     },
     "output_type": "display_data"
    }
   ],
   "source": [
    "# MEAN PERSISTENCE TIME, AND ITS DISTRIBUTION\n",
    "# p0=0.02, N=200\n",
    "# DON'T TRY WITH LARGE N\n",
    "persistence_time<-rep(NA, 10000)\n",
    "for (i in 1:length(persistence_time))\n",
    "{\n",
    "        persistence_time[i]<-sim_genetic_drift3(p0=0.02, N=200)\n",
    "}\n",
    "mean(persistence_time)\n",
    "var(persistence_time)\n",
    "hist(persistence_time)"
   ]
  },
  {
   "cell_type": "markdown",
   "id": "bc86a31d-2ffe-4fd1-a354-0a802de598a4",
   "metadata": {},
   "source": [
    "From our MC the mean persistence time is approximately 79 generations with a huge variance. The distribution is heavily skewed with a very long tail (in this case the sample mean is not a very indicative summary statistic...). You may compare your MC results with Kimura and Ohta's (1969) diffusion approximation:\n",
    "$$\\bar{t}\\approx-4N[p_0*log(p_0)+(1-p_0)*log(1-p_0)]$$\n",
    "\n",
    "#### 4. Bonus: about the <code>sample()</code> function\n",
    "Below is a non-exhaustive list of what <code>sample()</code> can do: \n",
    "\n",
    "1. Shuffling. The <code>sample()</code> function shuffles the only input argument (usually a vector) and returns you a vector of the same length. "
   ]
  },
  {
   "cell_type": "code",
   "execution_count": 11,
   "id": "41532639-1c64-4efa-ac0c-324adc6e6e2b",
   "metadata": {},
   "outputs": [
    {
     "data": {
      "text/html": [
       "<style>\n",
       ".list-inline {list-style: none; margin:0; padding: 0}\n",
       ".list-inline>li {display: inline-block}\n",
       ".list-inline>li:not(:last-child)::after {content: \"\\00b7\"; padding: 0 .5ex}\n",
       "</style>\n",
       "<ol class=list-inline><li>10</li><li>6</li><li>9</li><li>2</li><li>4</li><li>5</li><li>1</li><li>3</li><li>7</li><li>8</li></ol>\n"
      ],
      "text/latex": [
       "\\begin{enumerate*}\n",
       "\\item 10\n",
       "\\item 6\n",
       "\\item 9\n",
       "\\item 2\n",
       "\\item 4\n",
       "\\item 5\n",
       "\\item 1\n",
       "\\item 3\n",
       "\\item 7\n",
       "\\item 8\n",
       "\\end{enumerate*}\n"
      ],
      "text/markdown": [
       "1. 10\n",
       "2. 6\n",
       "3. 9\n",
       "4. 2\n",
       "5. 4\n",
       "6. 5\n",
       "7. 1\n",
       "8. 3\n",
       "9. 7\n",
       "10. 8\n",
       "\n",
       "\n"
      ],
      "text/plain": [
       " [1] 10  6  9  2  4  5  1  3  7  8"
      ]
     },
     "metadata": {},
     "output_type": "display_data"
    },
    {
     "data": {
      "text/html": [
       "<style>\n",
       ".list-inline {list-style: none; margin:0; padding: 0}\n",
       ".list-inline>li {display: inline-block}\n",
       ".list-inline>li:not(:last-child)::after {content: \"\\00b7\"; padding: 0 .5ex}\n",
       "</style>\n",
       "<ol class=list-inline><li>'l'</li><li>'c'</li><li>'j'</li><li>'q'</li><li>'z'</li><li>'g'</li><li>'r'</li><li>'s'</li><li>'y'</li><li>'n'</li><li>'v'</li><li>'w'</li><li>'a'</li><li>'i'</li><li>'t'</li><li>'k'</li><li>'m'</li><li>'e'</li><li>'f'</li><li>'u'</li><li>'b'</li><li>'x'</li><li>'d'</li><li>'h'</li><li>'o'</li><li>'p'</li></ol>\n"
      ],
      "text/latex": [
       "\\begin{enumerate*}\n",
       "\\item 'l'\n",
       "\\item 'c'\n",
       "\\item 'j'\n",
       "\\item 'q'\n",
       "\\item 'z'\n",
       "\\item 'g'\n",
       "\\item 'r'\n",
       "\\item 's'\n",
       "\\item 'y'\n",
       "\\item 'n'\n",
       "\\item 'v'\n",
       "\\item 'w'\n",
       "\\item 'a'\n",
       "\\item 'i'\n",
       "\\item 't'\n",
       "\\item 'k'\n",
       "\\item 'm'\n",
       "\\item 'e'\n",
       "\\item 'f'\n",
       "\\item 'u'\n",
       "\\item 'b'\n",
       "\\item 'x'\n",
       "\\item 'd'\n",
       "\\item 'h'\n",
       "\\item 'o'\n",
       "\\item 'p'\n",
       "\\end{enumerate*}\n"
      ],
      "text/markdown": [
       "1. 'l'\n",
       "2. 'c'\n",
       "3. 'j'\n",
       "4. 'q'\n",
       "5. 'z'\n",
       "6. 'g'\n",
       "7. 'r'\n",
       "8. 's'\n",
       "9. 'y'\n",
       "10. 'n'\n",
       "11. 'v'\n",
       "12. 'w'\n",
       "13. 'a'\n",
       "14. 'i'\n",
       "15. 't'\n",
       "16. 'k'\n",
       "17. 'm'\n",
       "18. 'e'\n",
       "19. 'f'\n",
       "20. 'u'\n",
       "21. 'b'\n",
       "22. 'x'\n",
       "23. 'd'\n",
       "24. 'h'\n",
       "25. 'o'\n",
       "26. 'p'\n",
       "\n",
       "\n"
      ],
      "text/plain": [
       " [1] \"l\" \"c\" \"j\" \"q\" \"z\" \"g\" \"r\" \"s\" \"y\" \"n\" \"v\" \"w\" \"a\" \"i\" \"t\" \"k\" \"m\" \"e\" \"f\"\n",
       "[20] \"u\" \"b\" \"x\" \"d\" \"h\" \"o\" \"p\""
      ]
     },
     "metadata": {},
     "output_type": "display_data"
    }
   ],
   "source": [
    "sample(1:10)\n",
    "sample(letters)"
   ]
  },
  {
   "cell_type": "markdown",
   "id": "d1792044-913a-4fcb-9a0b-5ac0e0afca4b",
   "metadata": {},
   "source": [
    "2. Sampling without replacement. If we include the <code>size=</code> argument then it samples without replacement from the given vector. Note that the size has to be smaller or equal to the length of the vector. "
   ]
  },
  {
   "cell_type": "code",
   "execution_count": 12,
   "id": "3bd96fc6-9f27-4f80-aeb6-d99d9a7e5f1e",
   "metadata": {},
   "outputs": [
    {
     "data": {
      "text/html": [
       "<style>\n",
       ".list-inline {list-style: none; margin:0; padding: 0}\n",
       ".list-inline>li {display: inline-block}\n",
       ".list-inline>li:not(:last-child)::after {content: \"\\00b7\"; padding: 0 .5ex}\n",
       "</style>\n",
       "<ol class=list-inline><li>5</li><li>4</li><li>2</li><li>8</li></ol>\n"
      ],
      "text/latex": [
       "\\begin{enumerate*}\n",
       "\\item 5\n",
       "\\item 4\n",
       "\\item 2\n",
       "\\item 8\n",
       "\\end{enumerate*}\n"
      ],
      "text/markdown": [
       "1. 5\n",
       "2. 4\n",
       "3. 2\n",
       "4. 8\n",
       "\n",
       "\n"
      ],
      "text/plain": [
       "[1] 5 4 2 8"
      ]
     },
     "metadata": {},
     "output_type": "display_data"
    },
    {
     "data": {
      "text/html": [
       "<style>\n",
       ".list-inline {list-style: none; margin:0; padding: 0}\n",
       ".list-inline>li {display: inline-block}\n",
       ".list-inline>li:not(:last-child)::after {content: \"\\00b7\"; padding: 0 .5ex}\n",
       "</style>\n",
       "<ol class=list-inline><li>'c'</li><li>'h'</li><li>'k'</li><li>'w'</li><li>'v'</li></ol>\n"
      ],
      "text/latex": [
       "\\begin{enumerate*}\n",
       "\\item 'c'\n",
       "\\item 'h'\n",
       "\\item 'k'\n",
       "\\item 'w'\n",
       "\\item 'v'\n",
       "\\end{enumerate*}\n"
      ],
      "text/markdown": [
       "1. 'c'\n",
       "2. 'h'\n",
       "3. 'k'\n",
       "4. 'w'\n",
       "5. 'v'\n",
       "\n",
       "\n"
      ],
      "text/plain": [
       "[1] \"c\" \"h\" \"k\" \"w\" \"v\""
      ]
     },
     "metadata": {},
     "output_type": "display_data"
    },
    {
     "ename": "ERROR",
     "evalue": "Error in sample.int(length(x), size, replace, prob): cannot take a sample larger than the population when 'replace = FALSE'\n",
     "output_type": "error",
     "traceback": [
      "Error in sample.int(length(x), size, replace, prob): cannot take a sample larger than the population when 'replace = FALSE'\nTraceback:\n",
      "1. sample.int(length(x), size, replace, prob)",
      "2. .handleSimpleError(function (cnd) \n . {\n .     watcher$capture_plot_and_output()\n .     cnd <- sanitize_call(cnd)\n .     watcher$push(cnd)\n .     switch(on_error, continue = invokeRestart(\"eval_continue\"), \n .         stop = invokeRestart(\"eval_stop\"), error = invokeRestart(\"eval_error\", \n .             cnd))\n . }, \"cannot take a sample larger than the population when 'replace = FALSE'\", \n .     base::quote(sample.int(length(x), size, replace, prob)))"
     ]
    }
   ],
   "source": [
    "sample(1:10, size=4)\n",
    "sample(letters, size=5)\n",
    "sample(1:10, size=11) # ERROR"
   ]
  },
  {
   "cell_type": "markdown",
   "id": "aaa1802e-6be4-49a5-883b-0abdee45dfed",
   "metadata": {},
   "source": [
    "3. Sampling with replacement if <code>replace=T</code> is included. Note that the elements have the same chance of being chosen. "
   ]
  },
  {
   "cell_type": "code",
   "execution_count": 13,
   "id": "720f39c2-cdff-4b72-99de-0fa6e9d6f8ef",
   "metadata": {},
   "outputs": [
    {
     "data": {
      "text/html": [
       "<style>\n",
       ".list-inline {list-style: none; margin:0; padding: 0}\n",
       ".list-inline>li {display: inline-block}\n",
       ".list-inline>li:not(:last-child)::after {content: \"\\00b7\"; padding: 0 .5ex}\n",
       "</style>\n",
       "<ol class=list-inline><li>8</li><li>8</li><li>2</li><li>5</li><li>6</li><li>4</li><li>7</li><li>4</li><li>3</li><li>2</li><li>9</li><li>4</li><li>4</li><li>5</li><li>5</li><li>8</li><li>5</li><li>1</li><li>6</li><li>9</li></ol>\n"
      ],
      "text/latex": [
       "\\begin{enumerate*}\n",
       "\\item 8\n",
       "\\item 8\n",
       "\\item 2\n",
       "\\item 5\n",
       "\\item 6\n",
       "\\item 4\n",
       "\\item 7\n",
       "\\item 4\n",
       "\\item 3\n",
       "\\item 2\n",
       "\\item 9\n",
       "\\item 4\n",
       "\\item 4\n",
       "\\item 5\n",
       "\\item 5\n",
       "\\item 8\n",
       "\\item 5\n",
       "\\item 1\n",
       "\\item 6\n",
       "\\item 9\n",
       "\\end{enumerate*}\n"
      ],
      "text/markdown": [
       "1. 8\n",
       "2. 8\n",
       "3. 2\n",
       "4. 5\n",
       "5. 6\n",
       "6. 4\n",
       "7. 7\n",
       "8. 4\n",
       "9. 3\n",
       "10. 2\n",
       "11. 9\n",
       "12. 4\n",
       "13. 4\n",
       "14. 5\n",
       "15. 5\n",
       "16. 8\n",
       "17. 5\n",
       "18. 1\n",
       "19. 6\n",
       "20. 9\n",
       "\n",
       "\n"
      ],
      "text/plain": [
       " [1] 8 8 2 5 6 4 7 4 3 2 9 4 4 5 5 8 5 1 6 9"
      ]
     },
     "metadata": {},
     "output_type": "display_data"
    },
    {
     "data": {
      "text/html": [
       "<style>\n",
       ".list-inline {list-style: none; margin:0; padding: 0}\n",
       ".list-inline>li {display: inline-block}\n",
       ".list-inline>li:not(:last-child)::after {content: \"\\00b7\"; padding: 0 .5ex}\n",
       "</style>\n",
       "<ol class=list-inline><li>'f'</li><li>'j'</li><li>'q'</li><li>'u'</li><li>'m'</li><li>'t'</li><li>'w'</li><li>'e'</li><li>'h'</li><li>'c'</li><li>'d'</li></ol>\n"
      ],
      "text/latex": [
       "\\begin{enumerate*}\n",
       "\\item 'f'\n",
       "\\item 'j'\n",
       "\\item 'q'\n",
       "\\item 'u'\n",
       "\\item 'm'\n",
       "\\item 't'\n",
       "\\item 'w'\n",
       "\\item 'e'\n",
       "\\item 'h'\n",
       "\\item 'c'\n",
       "\\item 'd'\n",
       "\\end{enumerate*}\n"
      ],
      "text/markdown": [
       "1. 'f'\n",
       "2. 'j'\n",
       "3. 'q'\n",
       "4. 'u'\n",
       "5. 'm'\n",
       "6. 't'\n",
       "7. 'w'\n",
       "8. 'e'\n",
       "9. 'h'\n",
       "10. 'c'\n",
       "11. 'd'\n",
       "\n",
       "\n"
      ],
      "text/plain": [
       " [1] \"f\" \"j\" \"q\" \"u\" \"m\" \"t\" \"w\" \"e\" \"h\" \"c\" \"d\""
      ]
     },
     "metadata": {},
     "output_type": "display_data"
    },
    {
     "data": {
      "text/html": [
       "<style>\n",
       ".list-inline {list-style: none; margin:0; padding: 0}\n",
       ".list-inline>li {display: inline-block}\n",
       ".list-inline>li:not(:last-child)::after {content: \"\\00b7\"; padding: 0 .5ex}\n",
       "</style>\n",
       "<ol class=list-inline><li>10</li><li>2</li><li>2</li><li>8</li><li>4</li><li>10</li><li>5</li><li>9</li><li>5</li><li>1</li></ol>\n"
      ],
      "text/latex": [
       "\\begin{enumerate*}\n",
       "\\item 10\n",
       "\\item 2\n",
       "\\item 2\n",
       "\\item 8\n",
       "\\item 4\n",
       "\\item 10\n",
       "\\item 5\n",
       "\\item 9\n",
       "\\item 5\n",
       "\\item 1\n",
       "\\end{enumerate*}\n"
      ],
      "text/markdown": [
       "1. 10\n",
       "2. 2\n",
       "3. 2\n",
       "4. 8\n",
       "5. 4\n",
       "6. 10\n",
       "7. 5\n",
       "8. 9\n",
       "9. 5\n",
       "10. 1\n",
       "\n",
       "\n"
      ],
      "text/plain": [
       " [1] 10  2  2  8  4 10  5  9  5  1"
      ]
     },
     "metadata": {},
     "output_type": "display_data"
    }
   ],
   "source": [
    "sample(1:10, size=20, replace=T) # IT IS NOW OK TO SAMPLE 20 ITEMS FROM A VECTOR OF LENGTH 10 WITH REPLACEMENT\n",
    "sample(letters, size=11, replace=T)\n",
    "sample(1:10, replace=T) # OK BUT CONFUSING"
   ]
  },
  {
   "cell_type": "markdown",
   "id": "90db027a-c42d-4a2e-a97e-3a4774edc815",
   "metadata": {},
   "source": [
    "4. Sampling with replacement, with probabilities specified. Sometimes unequal probabilities are assumed. The <code>prob=</code> argument should have the same length as your input vector (one prob per element), and sum to unity. "
   ]
  },
  {
   "cell_type": "code",
   "execution_count": 14,
   "id": "00aa1ff8-06d8-4721-bf83-c4f088f5fed3",
   "metadata": {},
   "outputs": [
    {
     "data": {
      "text/html": [
       "<style>\n",
       ".list-inline {list-style: none; margin:0; padding: 0}\n",
       ".list-inline>li {display: inline-block}\n",
       ".list-inline>li:not(:last-child)::after {content: \"\\00b7\"; padding: 0 .5ex}\n",
       "</style>\n",
       "<ol class=list-inline><li>6</li><li>5</li><li>1</li><li>4</li><li>1</li><li>6</li><li>7</li><li>1</li><li>2</li><li>6</li><li>3</li><li>1</li><li>5</li><li>1</li><li>7</li><li>5</li><li>1</li><li>4</li><li>4</li><li>7</li></ol>\n"
      ],
      "text/latex": [
       "\\begin{enumerate*}\n",
       "\\item 6\n",
       "\\item 5\n",
       "\\item 1\n",
       "\\item 4\n",
       "\\item 1\n",
       "\\item 6\n",
       "\\item 7\n",
       "\\item 1\n",
       "\\item 2\n",
       "\\item 6\n",
       "\\item 3\n",
       "\\item 1\n",
       "\\item 5\n",
       "\\item 1\n",
       "\\item 7\n",
       "\\item 5\n",
       "\\item 1\n",
       "\\item 4\n",
       "\\item 4\n",
       "\\item 7\n",
       "\\end{enumerate*}\n"
      ],
      "text/markdown": [
       "1. 6\n",
       "2. 5\n",
       "3. 1\n",
       "4. 4\n",
       "5. 1\n",
       "6. 6\n",
       "7. 7\n",
       "8. 1\n",
       "9. 2\n",
       "10. 6\n",
       "11. 3\n",
       "12. 1\n",
       "13. 5\n",
       "14. 1\n",
       "15. 7\n",
       "16. 5\n",
       "17. 1\n",
       "18. 4\n",
       "19. 4\n",
       "20. 7\n",
       "\n",
       "\n"
      ],
      "text/plain": [
       " [1] 6 5 1 4 1 6 7 1 2 6 3 1 5 1 7 5 1 4 4 7"
      ]
     },
     "metadata": {},
     "output_type": "display_data"
    }
   ],
   "source": [
    "sample(1:10, size=20, prob=c(0.4, 0.1, 0.1, 0.1, 0.1, 0.1, 0.1, 0, 0, 0), replace=T) # LOADS OF 1, BUT NO 8, 9, 10"
   ]
  },
  {
   "cell_type": "markdown",
   "id": "d8956bfa-b83f-4931-b5e8-00cfc9a880c3",
   "metadata": {},
   "source": [
    "Now it is not too difficult to see the equivalence of these two statements: \n",
    "\n",
    "<code>sample(0:1, size=20, prob=c(0.75, 0.25), replace=T)</code>\n",
    "\n",
    "<code>sample(c(0, 0, 0, 1), size=20, replacement=T)</code>\n",
    "\n",
    "both are useful in the modelling of random mating / reproduction in the WF model. \n",
    "\n",
    "#### 5. References\n",
    "Waples, R. S. (1989). A generalized approach for estimating effective population size from temporal changes in allele frequency. Genetics, 121(2), 379-391.\n",
    "\n",
    "Hui, T. Y. J., Brenas, J. H., & Burt, A. (2021). Contemporary N e estimation using temporally spaced data with linked loci. Molecular Ecology Resources, 21(7), 2221-2230."
   ]
  }
 ],
 "metadata": {
  "kernelspec": {
   "display_name": "R",
   "language": "R",
   "name": "ir"
  },
  "language_info": {
   "codemirror_mode": "r",
   "file_extension": ".r",
   "mimetype": "text/x-r-source",
   "name": "R",
   "pygments_lexer": "r",
   "version": "3.5.3"
  }
 },
 "nbformat": 4,
 "nbformat_minor": 5
}
